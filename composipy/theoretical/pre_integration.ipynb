{
 "cells": [
  {
   "cell_type": "code",
   "execution_count": 12,
   "metadata": {},
   "outputs": [],
   "source": [
    "import sympy as sp"
   ]
  },
  {
   "cell_type": "code",
   "execution_count": 13,
   "metadata": {},
   "outputs": [],
   "source": [
    "fi1, fi2, fi3, fi4, fi5 = sp.symbols(['i1', 'i2', 'i3', 'i4', 'i5'])\n",
    "gj1, gj2, gj3, gj4, gj5 = sp.symbols(['j1', 'j2', 'j3', 'j4', 'j5'])\n",
    "fk1, fk2, fk3, fk4, fk5 = sp.symbols(['k1', 'k2', 'k3', 'k4', 'k5'])\n",
    "gl1, gl2, gl3, gl4, gl5 = sp.symbols(['l1', 'l2', 'l3', 'l4', 'l5'])"
   ]
  },
  {
   "cell_type": "code",
   "execution_count": 14,
   "metadata": {},
   "outputs": [],
   "source": [
    "fi = sp.Matrix([fi1, fi2, fi3, fi4, fi5])\n",
    "gj = sp.Matrix([gj1, gj2, gj3, gj4, gj5])\n",
    "fk = sp.Matrix([fk1, fk2, fk3, fk4, fk5])\n",
    "gl = sp.Matrix([gl1, gl2, gl3, gl4, gl5])"
   ]
  },
  {
   "cell_type": "code",
   "execution_count": 15,
   "metadata": {},
   "outputs": [],
   "source": [
    "Sij, Skl = [[]], [[]]\n",
    "\n",
    "for i in range(3):\n",
    "    for j in range(3):\n",
    "        Sij[0].append(fi[i]*gj[j])\n",
    "        Skl[0].append(fk[i]*gl[j])\n",
    "Sij, Skl = sp.Matrix(Sij), sp.Matrix(Skl)\n",
    "\n",
    "\n"
   ]
  },
  {
   "cell_type": "code",
   "execution_count": 16,
   "metadata": {},
   "outputs": [
    {
     "data": {
      "text/latex": [
       "$\\displaystyle \\left[\\begin{matrix}i_{1} j_{1} k_{1} l_{1} & i_{1} j_{1} k_{1} l_{2} & i_{1} j_{1} k_{1} l_{3} & i_{1} j_{1} k_{2} l_{1} & i_{1} j_{1} k_{2} l_{2} & i_{1} j_{1} k_{2} l_{3} & i_{1} j_{1} k_{3} l_{1} & i_{1} j_{1} k_{3} l_{2} & i_{1} j_{1} k_{3} l_{3}\\\\i_{1} j_{2} k_{1} l_{1} & i_{1} j_{2} k_{1} l_{2} & i_{1} j_{2} k_{1} l_{3} & i_{1} j_{2} k_{2} l_{1} & i_{1} j_{2} k_{2} l_{2} & i_{1} j_{2} k_{2} l_{3} & i_{1} j_{2} k_{3} l_{1} & i_{1} j_{2} k_{3} l_{2} & i_{1} j_{2} k_{3} l_{3}\\\\i_{1} j_{3} k_{1} l_{1} & i_{1} j_{3} k_{1} l_{2} & i_{1} j_{3} k_{1} l_{3} & i_{1} j_{3} k_{2} l_{1} & i_{1} j_{3} k_{2} l_{2} & i_{1} j_{3} k_{2} l_{3} & i_{1} j_{3} k_{3} l_{1} & i_{1} j_{3} k_{3} l_{2} & i_{1} j_{3} k_{3} l_{3}\\\\i_{2} j_{1} k_{1} l_{1} & i_{2} j_{1} k_{1} l_{2} & i_{2} j_{1} k_{1} l_{3} & i_{2} j_{1} k_{2} l_{1} & i_{2} j_{1} k_{2} l_{2} & i_{2} j_{1} k_{2} l_{3} & i_{2} j_{1} k_{3} l_{1} & i_{2} j_{1} k_{3} l_{2} & i_{2} j_{1} k_{3} l_{3}\\\\i_{2} j_{2} k_{1} l_{1} & i_{2} j_{2} k_{1} l_{2} & i_{2} j_{2} k_{1} l_{3} & i_{2} j_{2} k_{2} l_{1} & i_{2} j_{2} k_{2} l_{2} & i_{2} j_{2} k_{2} l_{3} & i_{2} j_{2} k_{3} l_{1} & i_{2} j_{2} k_{3} l_{2} & i_{2} j_{2} k_{3} l_{3}\\\\i_{2} j_{3} k_{1} l_{1} & i_{2} j_{3} k_{1} l_{2} & i_{2} j_{3} k_{1} l_{3} & i_{2} j_{3} k_{2} l_{1} & i_{2} j_{3} k_{2} l_{2} & i_{2} j_{3} k_{2} l_{3} & i_{2} j_{3} k_{3} l_{1} & i_{2} j_{3} k_{3} l_{2} & i_{2} j_{3} k_{3} l_{3}\\\\i_{3} j_{1} k_{1} l_{1} & i_{3} j_{1} k_{1} l_{2} & i_{3} j_{1} k_{1} l_{3} & i_{3} j_{1} k_{2} l_{1} & i_{3} j_{1} k_{2} l_{2} & i_{3} j_{1} k_{2} l_{3} & i_{3} j_{1} k_{3} l_{1} & i_{3} j_{1} k_{3} l_{2} & i_{3} j_{1} k_{3} l_{3}\\\\i_{3} j_{2} k_{1} l_{1} & i_{3} j_{2} k_{1} l_{2} & i_{3} j_{2} k_{1} l_{3} & i_{3} j_{2} k_{2} l_{1} & i_{3} j_{2} k_{2} l_{2} & i_{3} j_{2} k_{2} l_{3} & i_{3} j_{2} k_{3} l_{1} & i_{3} j_{2} k_{3} l_{2} & i_{3} j_{2} k_{3} l_{3}\\\\i_{3} j_{3} k_{1} l_{1} & i_{3} j_{3} k_{1} l_{2} & i_{3} j_{3} k_{1} l_{3} & i_{3} j_{3} k_{2} l_{1} & i_{3} j_{3} k_{2} l_{2} & i_{3} j_{3} k_{2} l_{3} & i_{3} j_{3} k_{3} l_{1} & i_{3} j_{3} k_{3} l_{2} & i_{3} j_{3} k_{3} l_{3}\\end{matrix}\\right]$"
      ],
      "text/plain": [
       "Matrix([\n",
       "[i1*j1*k1*l1, i1*j1*k1*l2, i1*j1*k1*l3, i1*j1*k2*l1, i1*j1*k2*l2, i1*j1*k2*l3, i1*j1*k3*l1, i1*j1*k3*l2, i1*j1*k3*l3],\n",
       "[i1*j2*k1*l1, i1*j2*k1*l2, i1*j2*k1*l3, i1*j2*k2*l1, i1*j2*k2*l2, i1*j2*k2*l3, i1*j2*k3*l1, i1*j2*k3*l2, i1*j2*k3*l3],\n",
       "[i1*j3*k1*l1, i1*j3*k1*l2, i1*j3*k1*l3, i1*j3*k2*l1, i1*j3*k2*l2, i1*j3*k2*l3, i1*j3*k3*l1, i1*j3*k3*l2, i1*j3*k3*l3],\n",
       "[i2*j1*k1*l1, i2*j1*k1*l2, i2*j1*k1*l3, i2*j1*k2*l1, i2*j1*k2*l2, i2*j1*k2*l3, i2*j1*k3*l1, i2*j1*k3*l2, i2*j1*k3*l3],\n",
       "[i2*j2*k1*l1, i2*j2*k1*l2, i2*j2*k1*l3, i2*j2*k2*l1, i2*j2*k2*l2, i2*j2*k2*l3, i2*j2*k3*l1, i2*j2*k3*l2, i2*j2*k3*l3],\n",
       "[i2*j3*k1*l1, i2*j3*k1*l2, i2*j3*k1*l3, i2*j3*k2*l1, i2*j3*k2*l2, i2*j3*k2*l3, i2*j3*k3*l1, i2*j3*k3*l2, i2*j3*k3*l3],\n",
       "[i3*j1*k1*l1, i3*j1*k1*l2, i3*j1*k1*l3, i3*j1*k2*l1, i3*j1*k2*l2, i3*j1*k2*l3, i3*j1*k3*l1, i3*j1*k3*l2, i3*j1*k3*l3],\n",
       "[i3*j2*k1*l1, i3*j2*k1*l2, i3*j2*k1*l3, i3*j2*k2*l1, i3*j2*k2*l2, i3*j2*k2*l3, i3*j2*k3*l1, i3*j2*k3*l2, i3*j2*k3*l3],\n",
       "[i3*j3*k1*l1, i3*j3*k1*l2, i3*j3*k1*l3, i3*j3*k2*l1, i3*j3*k2*l2, i3*j3*k2*l3, i3*j3*k3*l1, i3*j3*k3*l2, i3*j3*k3*l3]])"
      ]
     },
     "execution_count": 16,
     "metadata": {},
     "output_type": "execute_result"
    }
   ],
   "source": [
    "Sij.T*Skl"
   ]
  },
  {
   "cell_type": "markdown",
   "metadata": {},
   "source": [
    "## Bardell BC"
   ]
  },
  {
   "cell_type": "code",
   "execution_count": 22,
   "metadata": {},
   "outputs": [],
   "source": [
    "xi = sp.symbols('xi')\n",
    "\n",
    "f1 = 0.25*xi**3 - 0.75*xi + 0.5\n",
    "f2 = 0.125*xi**3 - 0.125*xi**2 - 0.125*xi + 0.125\n",
    "f3 = -0.25*xi**3 + 0.75*xi + 0.5\n",
    "f4 = -1/8 - 1/8*xi + 1/8*xi**2 + 1/8*xi**3"
   ]
  },
  {
   "cell_type": "code",
   "execution_count": 27,
   "metadata": {},
   "outputs": [
    {
     "name": "stdout",
     "output_type": "stream",
     "text": [
      "1.00000000000000\n",
      "0.500000000000000\n",
      "1.00000000000000\n",
      "0.500000000000000\n"
     ]
    }
   ],
   "source": [
    "print(f1.subs(xi, -1))\n",
    "print(sp.diff(f2,xi).subs(xi, -1))\n",
    "print(f3.subs(xi, 1))\n",
    "print(sp.diff(f4, xi).subs(xi, 1))"
   ]
  },
  {
   "cell_type": "markdown",
   "metadata": {},
   "source": [
    "## deformation matrix"
   ]
  }
 ],
 "metadata": {
  "kernelspec": {
   "display_name": "base",
   "language": "python",
   "name": "python3"
  },
  "language_info": {
   "codemirror_mode": {
    "name": "ipython",
    "version": 3
   },
   "file_extension": ".py",
   "mimetype": "text/x-python",
   "name": "python",
   "nbconvert_exporter": "python",
   "pygments_lexer": "ipython3",
   "version": "3.9.12 (main, Apr  4 2022, 05:22:27) [MSC v.1916 64 bit (AMD64)]"
  },
  "orig_nbformat": 4,
  "vscode": {
   "interpreter": {
    "hash": "c1590602456d7cb2bb11a9c056450b313acab0eb77422ae1a602feaa944934ec"
   }
  }
 },
 "nbformat": 4,
 "nbformat_minor": 2
}
