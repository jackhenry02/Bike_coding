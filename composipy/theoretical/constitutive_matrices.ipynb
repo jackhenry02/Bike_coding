{
 "cells": [
  {
   "cell_type": "code",
   "execution_count": 3,
   "metadata": {},
   "outputs": [],
   "source": [
    "import sympy as sp"
   ]
  },
  {
   "cell_type": "code",
   "execution_count": 13,
   "metadata": {},
   "outputs": [],
   "source": [
    "a, b = sp.symbols(['a', 'b'])\n",
    "A11, A12, A16, A22, A26, A66 = sp.symbols(['A11', 'A12', 'A16', 'A22', 'A26', 'A66']) # jones (5.16)\n",
    "B11, B12, B16, B22, B26, B66 = sp.symbols(['B11', 'B12', 'B16', 'B22', 'B26', 'B66'])\n",
    "D11, D12, D16, D22, D26, D66 = sp.symbols(['D11', 'D12', 'D16', 'D22', 'D26', 'D66'])\n",
    "\n",
    "Suxi, Sveta, Sueta, Svxi = sp.symbols(['Su_xi', 'Sv_eta', 'Su_eta', 'Sv_xi'])\n",
    "Swxixi, Swetaeta, Swxieta = sp.symbols(['Sw2_xi', 'Sw2_eta', 'Sw2_theta'])\n",
    "Swxiij, Swetaij, Swxikl, Swetakl = sp.symbols(['ijSw_xi', 'ijSw_eta', 'klSw_xi', 'klSw_eta'])\n",
    "\n",
    "Z11ij, Z22ij, Z31ij, Z32ij, Z43ij, Z53ij, Z63ij = sp.symbols(['varepsilon_11^ij', 'varepsilon_22^ij', 'varepsilon_31^ij',\n",
    "                                                'varepsilon_32^ij', 'varepsilon__43^ij', 'varepsilon__53^ij', 'varepsilon__63^ij'])\n",
    "Z11kl, Z22kl, Z31kl, Z32kl, Z43kl, Z53kl, Z63kl = sp.symbols(['varepsilon_11^kl', 'varepsilon_22^kl', 'varepsilon_31^kl',\n",
    "                                                'varepsilon_32^kl', 'varepsilon__43^kl', 'varepsilon__53^kl', 'varepsilon__63^kl'])                                                \n",
    "\n",
    "Nxx, Nyy, Nxy = sp.symbols(['N_xx', 'N_yy', 'N_xy'])"
   ]
  },
  {
   "cell_type": "code",
   "execution_count": 14,
   "metadata": {},
   "outputs": [],
   "source": [
    "F = sp.Matrix([\n",
    "    [A11, A12, A16, B11, B12, B16],\n",
    "    [A12, A22, A26, B12, B22, B26],\n",
    "    [A16, A26, A66, B16, B26, B66],\n",
    "    [B11, B12, B16, D11, D12, D16],\n",
    "    [B12, B22, B26, D12, D22, D26],\n",
    "    [B16, B26, B66, D16, D26, D66]\n",
    "])\n",
    "\n",
    "\n",
    "B0_kappa = sp.Matrix([\n",
    "    [(2/a) * Suxi],\n",
    "    [(2/b) * Sveta], # flat approach (no curvature)\n",
    "    [(2/b)*Sueta + (2/a)*Svxi],\n",
    "    [-(4/a**2) * Swxixi], # rotation deformation\n",
    "    [-(4/b**2) * Swetaeta],\n",
    "    [-2*(4/(a*b)) * Swxieta]\n",
    "])\n",
    "\n",
    "Bij = sp.Matrix([\n",
    "    [(2/a)*Z11ij, 0, 0],\n",
    "    [0, (2/b)*Z22ij, 0],\n",
    "    [(2/b)*Z31ij, (2/a)*Z32ij, 0],\n",
    "    [0, 0, -(4/a**2)*Z43ij],\n",
    "    [0, 0, -(4/b**2)*Z53ij],\n",
    "    [0, 0, -2*(4/(a*b))*Z63ij]\n",
    "])\n",
    "\n",
    "Bkl = sp.Matrix([\n",
    "    [(2/a)*Z11kl, 0, 0],\n",
    "    [0, (2/b)*Z22kl, 0],\n",
    "    [(2/b)*Z31kl, (2/a)*Z32kl, 0],\n",
    "    [0, 0, -(4/a**2)*Z43kl],\n",
    "    [0, 0, -(4/b**2)*Z53kl],\n",
    "    [0, 0, -2*(4/(a*b))*Z63kl]\n",
    "])"
   ]
  },
  {
   "cell_type": "code",
   "execution_count": 15,
   "metadata": {},
   "outputs": [
    {
     "data": {
      "text/latex": [
       "$\\displaystyle \\left[\\begin{matrix}\\frac{a b \\left(\\frac{2 \\varepsilon^{kl}_{31} \\cdot \\left(\\frac{2 A_{16} \\varepsilon^{ij}_{11}}{a} + \\frac{2 A_{66} \\varepsilon^{ij}_{31}}{b}\\right)}{b} + \\frac{2 \\varepsilon^{kl}_{11} \\cdot \\left(\\frac{2 A_{11} \\varepsilon^{ij}_{11}}{a} + \\frac{2 A_{16} \\varepsilon^{ij}_{31}}{b}\\right)}{a}\\right)}{4} & \\frac{a b \\left(\\frac{2 \\varepsilon^{kl}_{22} \\cdot \\left(\\frac{2 A_{12} \\varepsilon^{ij}_{11}}{a} + \\frac{2 A_{26} \\varepsilon^{ij}_{31}}{b}\\right)}{b} + \\frac{2 \\varepsilon^{kl}_{32} \\cdot \\left(\\frac{2 A_{16} \\varepsilon^{ij}_{11}}{a} + \\frac{2 A_{66} \\varepsilon^{ij}_{31}}{b}\\right)}{a}\\right)}{4} & \\frac{a b \\left(- \\frac{4 \\varepsilon^{53 kl} \\left(\\frac{2 B_{12} \\varepsilon^{ij}_{11}}{a} + \\frac{2 B_{26} \\varepsilon^{ij}_{31}}{b}\\right)}{b^{2}} - \\frac{8 \\varepsilon^{63 kl} \\left(\\frac{2 B_{16} \\varepsilon^{ij}_{11}}{a} + \\frac{2 B_{66} \\varepsilon^{ij}_{31}}{b}\\right)}{a b} - \\frac{4 \\varepsilon^{43 kl} \\left(\\frac{2 B_{11} \\varepsilon^{ij}_{11}}{a} + \\frac{2 B_{16} \\varepsilon^{ij}_{31}}{b}\\right)}{a^{2}}\\right)}{4}\\\\\\frac{a b \\left(\\frac{2 \\varepsilon^{kl}_{31} \\cdot \\left(\\frac{2 A_{26} \\varepsilon^{ij}_{22}}{b} + \\frac{2 A_{66} \\varepsilon^{ij}_{32}}{a}\\right)}{b} + \\frac{2 \\varepsilon^{kl}_{11} \\cdot \\left(\\frac{2 A_{12} \\varepsilon^{ij}_{22}}{b} + \\frac{2 A_{16} \\varepsilon^{ij}_{32}}{a}\\right)}{a}\\right)}{4} & \\frac{a b \\left(\\frac{2 \\varepsilon^{kl}_{22} \\cdot \\left(\\frac{2 A_{22} \\varepsilon^{ij}_{22}}{b} + \\frac{2 A_{26} \\varepsilon^{ij}_{32}}{a}\\right)}{b} + \\frac{2 \\varepsilon^{kl}_{32} \\cdot \\left(\\frac{2 A_{26} \\varepsilon^{ij}_{22}}{b} + \\frac{2 A_{66} \\varepsilon^{ij}_{32}}{a}\\right)}{a}\\right)}{4} & \\frac{a b \\left(- \\frac{4 \\varepsilon^{53 kl} \\left(\\frac{2 B_{22} \\varepsilon^{ij}_{22}}{b} + \\frac{2 B_{26} \\varepsilon^{ij}_{32}}{a}\\right)}{b^{2}} - \\frac{8 \\varepsilon^{63 kl} \\left(\\frac{2 B_{26} \\varepsilon^{ij}_{22}}{b} + \\frac{2 B_{66} \\varepsilon^{ij}_{32}}{a}\\right)}{a b} - \\frac{4 \\varepsilon^{43 kl} \\left(\\frac{2 B_{12} \\varepsilon^{ij}_{22}}{b} + \\frac{2 B_{16} \\varepsilon^{ij}_{32}}{a}\\right)}{a^{2}}\\right)}{4}\\\\\\frac{a b \\left(\\frac{2 \\varepsilon^{kl}_{31} \\left(- \\frac{4 B_{16} \\varepsilon^{43 ij}}{a^{2}} - \\frac{4 B_{26} \\varepsilon^{53 ij}}{b^{2}} - \\frac{8 B_{66} \\varepsilon^{63 ij}}{a b}\\right)}{b} + \\frac{2 \\varepsilon^{kl}_{11} \\left(- \\frac{4 B_{11} \\varepsilon^{43 ij}}{a^{2}} - \\frac{4 B_{12} \\varepsilon^{53 ij}}{b^{2}} - \\frac{8 B_{16} \\varepsilon^{63 ij}}{a b}\\right)}{a}\\right)}{4} & \\frac{a b \\left(\\frac{2 \\varepsilon^{kl}_{22} \\left(- \\frac{4 B_{12} \\varepsilon^{43 ij}}{a^{2}} - \\frac{4 B_{22} \\varepsilon^{53 ij}}{b^{2}} - \\frac{8 B_{26} \\varepsilon^{63 ij}}{a b}\\right)}{b} + \\frac{2 \\varepsilon^{kl}_{32} \\left(- \\frac{4 B_{16} \\varepsilon^{43 ij}}{a^{2}} - \\frac{4 B_{26} \\varepsilon^{53 ij}}{b^{2}} - \\frac{8 B_{66} \\varepsilon^{63 ij}}{a b}\\right)}{a}\\right)}{4} & \\frac{a b \\left(- \\frac{4 \\varepsilon^{53 kl} \\left(- \\frac{4 D_{12} \\varepsilon^{43 ij}}{a^{2}} - \\frac{4 D_{22} \\varepsilon^{53 ij}}{b^{2}} - \\frac{8 D_{26} \\varepsilon^{63 ij}}{a b}\\right)}{b^{2}} - \\frac{8 \\varepsilon^{63 kl} \\left(- \\frac{4 D_{16} \\varepsilon^{43 ij}}{a^{2}} - \\frac{4 D_{26} \\varepsilon^{53 ij}}{b^{2}} - \\frac{8 D_{66} \\varepsilon^{63 ij}}{a b}\\right)}{a b} - \\frac{4 \\varepsilon^{43 kl} \\left(- \\frac{4 D_{11} \\varepsilon^{43 ij}}{a^{2}} - \\frac{4 D_{12} \\varepsilon^{53 ij}}{b^{2}} - \\frac{8 D_{16} \\varepsilon^{63 ij}}{a b}\\right)}{a^{2}}\\right)}{4}\\end{matrix}\\right]$"
      ],
      "text/plain": [
       "Matrix([\n",
       "[                                                                                  a*b*(2*varepsilon_31^kl*(2*A16*varepsilon_11^ij/a + 2*A66*varepsilon_31^ij/b)/b + 2*varepsilon_11^kl*(2*A11*varepsilon_11^ij/a + 2*A16*varepsilon_31^ij/b)/a)/4,                                                                                   a*b*(2*varepsilon_22^kl*(2*A12*varepsilon_11^ij/a + 2*A26*varepsilon_31^ij/b)/b + 2*varepsilon_32^kl*(2*A16*varepsilon_11^ij/a + 2*A66*varepsilon_31^ij/b)/a)/4,                                                                                                                            a*b*(-4*varepsilon__53^kl*(2*B12*varepsilon_11^ij/a + 2*B26*varepsilon_31^ij/b)/b**2 - 8*varepsilon__63^kl*(2*B16*varepsilon_11^ij/a + 2*B66*varepsilon_31^ij/b)/(a*b) - 4*varepsilon__43^kl*(2*B11*varepsilon_11^ij/a + 2*B16*varepsilon_31^ij/b)/a**2)/4],\n",
       "[                                                                                  a*b*(2*varepsilon_31^kl*(2*A26*varepsilon_22^ij/b + 2*A66*varepsilon_32^ij/a)/b + 2*varepsilon_11^kl*(2*A12*varepsilon_22^ij/b + 2*A16*varepsilon_32^ij/a)/a)/4,                                                                                   a*b*(2*varepsilon_22^kl*(2*A22*varepsilon_22^ij/b + 2*A26*varepsilon_32^ij/a)/b + 2*varepsilon_32^kl*(2*A26*varepsilon_22^ij/b + 2*A66*varepsilon_32^ij/a)/a)/4,                                                                                                                            a*b*(-4*varepsilon__53^kl*(2*B22*varepsilon_22^ij/b + 2*B26*varepsilon_32^ij/a)/b**2 - 8*varepsilon__63^kl*(2*B26*varepsilon_22^ij/b + 2*B66*varepsilon_32^ij/a)/(a*b) - 4*varepsilon__43^kl*(2*B12*varepsilon_22^ij/b + 2*B16*varepsilon_32^ij/a)/a**2)/4],\n",
       "[a*b*(2*varepsilon_31^kl*(-4*B16*varepsilon__43^ij/a**2 - 4*B26*varepsilon__53^ij/b**2 - 8*B66*varepsilon__63^ij/(a*b))/b + 2*varepsilon_11^kl*(-4*B11*varepsilon__43^ij/a**2 - 4*B12*varepsilon__53^ij/b**2 - 8*B16*varepsilon__63^ij/(a*b))/a)/4, a*b*(2*varepsilon_22^kl*(-4*B12*varepsilon__43^ij/a**2 - 4*B22*varepsilon__53^ij/b**2 - 8*B26*varepsilon__63^ij/(a*b))/b + 2*varepsilon_32^kl*(-4*B16*varepsilon__43^ij/a**2 - 4*B26*varepsilon__53^ij/b**2 - 8*B66*varepsilon__63^ij/(a*b))/a)/4, a*b*(-4*varepsilon__53^kl*(-4*D12*varepsilon__43^ij/a**2 - 4*D22*varepsilon__53^ij/b**2 - 8*D26*varepsilon__63^ij/(a*b))/b**2 - 8*varepsilon__63^kl*(-4*D16*varepsilon__43^ij/a**2 - 4*D26*varepsilon__53^ij/b**2 - 8*D66*varepsilon__63^ij/(a*b))/(a*b) - 4*varepsilon__43^kl*(-4*D11*varepsilon__43^ij/a**2 - 4*D12*varepsilon__53^ij/b**2 - 8*D16*varepsilon__63^ij/(a*b))/a**2)/4]])"
      ]
     },
     "execution_count": 15,
     "metadata": {},
     "output_type": "execute_result"
    }
   ],
   "source": [
    "# Check of (B1)\n",
    "\n",
    "k = (Bij.T * F * Bkl) * (a*b/4)\n",
    "k = sp.sympify(k)\n",
    "k"
   ]
  },
  {
   "cell_type": "code",
   "execution_count": 16,
   "metadata": {},
   "outputs": [
    {
     "data": {
      "text/plain": [
       "'\\\\frac{a b \\\\left(\\\\frac{2 \\\\varepsilon^{kl}_{31} \\\\cdot \\\\left(\\\\frac{2 A_{16} \\\\varepsilon^{ij}_{11}}{a} + \\\\frac{2 A_{66} \\\\varepsilon^{ij}_{31}}{b}\\\\right)}{b} + \\\\frac{2 \\\\varepsilon^{kl}_{11} \\\\cdot \\\\left(\\\\frac{2 A_{11} \\\\varepsilon^{ij}_{11}}{a} + \\\\frac{2 A_{16} \\\\varepsilon^{ij}_{31}}{b}\\\\right)}{a}\\\\right)}{4}'"
      ]
     },
     "execution_count": 16,
     "metadata": {},
     "output_type": "execute_result"
    }
   ],
   "source": [
    "sp.latex(k[0,0])"
   ]
  },
  {
   "cell_type": "code",
   "execution_count": 17,
   "metadata": {},
   "outputs": [
    {
     "name": "stdout",
     "output_type": "stream",
     "text": [
      "a*b*(2*varepsilon_31^kl*(2*A16*varepsilon_11^ij/a + 2*A66*varepsilon_31^ij/b)/b + 2*varepsilon_11^kl*(2*A11*varepsilon_11^ij/a + 2*A16*varepsilon_31^ij/b)/a)/4\n"
     ]
    }
   ],
   "source": [
    "print(k[0,0])"
   ]
  },
  {
   "cell_type": "code",
   "execution_count": null,
   "metadata": {},
   "outputs": [],
   "source": []
  },
  {
   "cell_type": "code",
   "execution_count": 22,
   "metadata": {},
   "outputs": [],
   "source": [
    "Gij = sp.Matrix([\n",
    "    [0, 0, (2/a)*Swxiij],\n",
    "    [0, 0, (2/b)*Swetaij]\n",
    "])\n",
    "\n",
    "Gkl = sp.Matrix([\n",
    "    [0, 0, (2/a)*Swxikl],\n",
    "    [0, 0, (2/b)*Swetakl]\n",
    "])\n",
    "\n",
    "\n",
    "N = sp.Matrix([\n",
    "    [Nxx, Nxy],\n",
    "    [Nxy, Nyy]\n",
    "])\n",
    "\n",
    "C = sp.ones(25)"
   ]
  },
  {
   "cell_type": "code",
   "execution_count": 12,
   "metadata": {},
   "outputs": [
    {
     "data": {
      "text/latex": [
       "$\\displaystyle \\left[\\begin{matrix}0 & 0 & 0\\\\0 & 0 & 0\\\\0 & 0 & \\frac{N_{xx} b ijSw_{\\xi} klSw_{\\xi}}{a} + N_{xy} ijSw_{\\eta} klSw_{\\xi} + N_{xy} ijSw_{\\xi} klSw_{\\eta} + \\frac{N_{yy} a ijSw_{\\eta} klSw_{\\eta}}{b}\\end{matrix}\\right]$"
      ],
      "text/plain": [
       "Matrix([\n",
       "[0, 0,                                                                                                     0],\n",
       "[0, 0,                                                                                                     0],\n",
       "[0, 0, N_xx*b*ijSw_xi*klSw_xi/a + N_xy*ijSw_eta*klSw_xi + N_xy*ijSw_xi*klSw_eta + N_yy*a*ijSw_eta*klSw_eta/b]])"
      ]
     },
     "execution_count": 12,
     "metadata": {},
     "output_type": "execute_result"
    }
   ],
   "source": [
    "sp.simplify(Gij.T * N * Gkl * (a*b/4))"
   ]
  },
  {
   "attachments": {},
   "cell_type": "markdown",
   "metadata": {},
   "source": [
    "## Indices"
   ]
  },
  {
   "cell_type": "code",
   "execution_count": 9,
   "metadata": {},
   "outputs": [],
   "source": [
    "import sympy as sp\n",
    "import numpy as np\n",
    "\n",
    "from itertools import product"
   ]
  },
  {
   "cell_type": "code",
   "execution_count": 4,
   "metadata": {},
   "outputs": [],
   "source": [
    "i0, i1, i2, i3, i4 = sp.symbols(['i0', 'i1', 'i2', 'i3', 'i4'])\n",
    "j0, j1, j2, j3, j4 = sp.symbols(['j0', 'j1', 'j2', 'j3', 'j4'])\n",
    "k0, k1, k2, k3, k4 = sp.symbols(['k0', 'k1', 'k2', 'k3', 'k4'])\n",
    "l0, l1, l2, l3, l4 = sp.symbols(['l0', 'l1', 'l2', 'l3', 'l4'])"
   ]
  },
  {
   "cell_type": "code",
   "execution_count": 5,
   "metadata": {},
   "outputs": [],
   "source": [
    "sij = [[]]\n",
    "skl = [[]]\n",
    "for i, k in zip([i0, i2, i3, i4], [k0, k2, k3, k4]):\n",
    "    for j, l in zip([j0, j2, j3, j4], [l0, l2, l3, l4]):\n",
    "        sij[0].append(i*j)\n",
    "        skl[0].append(k*l)\n",
    "\n",
    "sij = sp.Matrix(sij)\n",
    "skl = sp.Matrix(skl)"
   ]
  },
  {
   "cell_type": "code",
   "execution_count": 57,
   "metadata": {},
   "outputs": [
    {
     "data": {
      "text/latex": [
       "$\\displaystyle \\left[\\begin{array}{cccccccccccccccc}i_{0} j_{0} k_{0} l_{0} & i_{0} j_{0} k_{0} l_{2} & i_{0} j_{0} k_{0} l_{3} & i_{0} j_{0} k_{0} l_{4} & i_{0} j_{0} k_{2} l_{0} & i_{0} j_{0} k_{2} l_{2} & i_{0} j_{0} k_{2} l_{3} & i_{0} j_{0} k_{2} l_{4} & i_{0} j_{0} k_{3} l_{0} & i_{0} j_{0} k_{3} l_{2} & i_{0} j_{0} k_{3} l_{3} & i_{0} j_{0} k_{3} l_{4} & i_{0} j_{0} k_{4} l_{0} & i_{0} j_{0} k_{4} l_{2} & i_{0} j_{0} k_{4} l_{3} & i_{0} j_{0} k_{4} l_{4}\\\\i_{0} j_{2} k_{0} l_{0} & i_{0} j_{2} k_{0} l_{2} & i_{0} j_{2} k_{0} l_{3} & i_{0} j_{2} k_{0} l_{4} & i_{0} j_{2} k_{2} l_{0} & i_{0} j_{2} k_{2} l_{2} & i_{0} j_{2} k_{2} l_{3} & i_{0} j_{2} k_{2} l_{4} & i_{0} j_{2} k_{3} l_{0} & i_{0} j_{2} k_{3} l_{2} & i_{0} j_{2} k_{3} l_{3} & i_{0} j_{2} k_{3} l_{4} & i_{0} j_{2} k_{4} l_{0} & i_{0} j_{2} k_{4} l_{2} & i_{0} j_{2} k_{4} l_{3} & i_{0} j_{2} k_{4} l_{4}\\\\i_{0} j_{3} k_{0} l_{0} & i_{0} j_{3} k_{0} l_{2} & i_{0} j_{3} k_{0} l_{3} & i_{0} j_{3} k_{0} l_{4} & i_{0} j_{3} k_{2} l_{0} & i_{0} j_{3} k_{2} l_{2} & i_{0} j_{3} k_{2} l_{3} & i_{0} j_{3} k_{2} l_{4} & i_{0} j_{3} k_{3} l_{0} & i_{0} j_{3} k_{3} l_{2} & i_{0} j_{3} k_{3} l_{3} & i_{0} j_{3} k_{3} l_{4} & i_{0} j_{3} k_{4} l_{0} & i_{0} j_{3} k_{4} l_{2} & i_{0} j_{3} k_{4} l_{3} & i_{0} j_{3} k_{4} l_{4}\\\\i_{0} j_{4} k_{0} l_{0} & i_{0} j_{4} k_{0} l_{2} & i_{0} j_{4} k_{0} l_{3} & i_{0} j_{4} k_{0} l_{4} & i_{0} j_{4} k_{2} l_{0} & i_{0} j_{4} k_{2} l_{2} & i_{0} j_{4} k_{2} l_{3} & i_{0} j_{4} k_{2} l_{4} & i_{0} j_{4} k_{3} l_{0} & i_{0} j_{4} k_{3} l_{2} & i_{0} j_{4} k_{3} l_{3} & i_{0} j_{4} k_{3} l_{4} & i_{0} j_{4} k_{4} l_{0} & i_{0} j_{4} k_{4} l_{2} & i_{0} j_{4} k_{4} l_{3} & i_{0} j_{4} k_{4} l_{4}\\\\i_{2} j_{0} k_{0} l_{0} & i_{2} j_{0} k_{0} l_{2} & i_{2} j_{0} k_{0} l_{3} & i_{2} j_{0} k_{0} l_{4} & i_{2} j_{0} k_{2} l_{0} & i_{2} j_{0} k_{2} l_{2} & i_{2} j_{0} k_{2} l_{3} & i_{2} j_{0} k_{2} l_{4} & i_{2} j_{0} k_{3} l_{0} & i_{2} j_{0} k_{3} l_{2} & i_{2} j_{0} k_{3} l_{3} & i_{2} j_{0} k_{3} l_{4} & i_{2} j_{0} k_{4} l_{0} & i_{2} j_{0} k_{4} l_{2} & i_{2} j_{0} k_{4} l_{3} & i_{2} j_{0} k_{4} l_{4}\\\\i_{2} j_{2} k_{0} l_{0} & i_{2} j_{2} k_{0} l_{2} & i_{2} j_{2} k_{0} l_{3} & i_{2} j_{2} k_{0} l_{4} & i_{2} j_{2} k_{2} l_{0} & i_{2} j_{2} k_{2} l_{2} & i_{2} j_{2} k_{2} l_{3} & i_{2} j_{2} k_{2} l_{4} & i_{2} j_{2} k_{3} l_{0} & i_{2} j_{2} k_{3} l_{2} & i_{2} j_{2} k_{3} l_{3} & i_{2} j_{2} k_{3} l_{4} & i_{2} j_{2} k_{4} l_{0} & i_{2} j_{2} k_{4} l_{2} & i_{2} j_{2} k_{4} l_{3} & i_{2} j_{2} k_{4} l_{4}\\\\i_{2} j_{3} k_{0} l_{0} & i_{2} j_{3} k_{0} l_{2} & i_{2} j_{3} k_{0} l_{3} & i_{2} j_{3} k_{0} l_{4} & i_{2} j_{3} k_{2} l_{0} & i_{2} j_{3} k_{2} l_{2} & i_{2} j_{3} k_{2} l_{3} & i_{2} j_{3} k_{2} l_{4} & i_{2} j_{3} k_{3} l_{0} & i_{2} j_{3} k_{3} l_{2} & i_{2} j_{3} k_{3} l_{3} & i_{2} j_{3} k_{3} l_{4} & i_{2} j_{3} k_{4} l_{0} & i_{2} j_{3} k_{4} l_{2} & i_{2} j_{3} k_{4} l_{3} & i_{2} j_{3} k_{4} l_{4}\\\\i_{2} j_{4} k_{0} l_{0} & i_{2} j_{4} k_{0} l_{2} & i_{2} j_{4} k_{0} l_{3} & i_{2} j_{4} k_{0} l_{4} & i_{2} j_{4} k_{2} l_{0} & i_{2} j_{4} k_{2} l_{2} & i_{2} j_{4} k_{2} l_{3} & i_{2} j_{4} k_{2} l_{4} & i_{2} j_{4} k_{3} l_{0} & i_{2} j_{4} k_{3} l_{2} & i_{2} j_{4} k_{3} l_{3} & i_{2} j_{4} k_{3} l_{4} & i_{2} j_{4} k_{4} l_{0} & i_{2} j_{4} k_{4} l_{2} & i_{2} j_{4} k_{4} l_{3} & i_{2} j_{4} k_{4} l_{4}\\\\i_{3} j_{0} k_{0} l_{0} & i_{3} j_{0} k_{0} l_{2} & i_{3} j_{0} k_{0} l_{3} & i_{3} j_{0} k_{0} l_{4} & i_{3} j_{0} k_{2} l_{0} & i_{3} j_{0} k_{2} l_{2} & i_{3} j_{0} k_{2} l_{3} & i_{3} j_{0} k_{2} l_{4} & i_{3} j_{0} k_{3} l_{0} & i_{3} j_{0} k_{3} l_{2} & i_{3} j_{0} k_{3} l_{3} & i_{3} j_{0} k_{3} l_{4} & i_{3} j_{0} k_{4} l_{0} & i_{3} j_{0} k_{4} l_{2} & i_{3} j_{0} k_{4} l_{3} & i_{3} j_{0} k_{4} l_{4}\\\\i_{3} j_{2} k_{0} l_{0} & i_{3} j_{2} k_{0} l_{2} & i_{3} j_{2} k_{0} l_{3} & i_{3} j_{2} k_{0} l_{4} & i_{3} j_{2} k_{2} l_{0} & i_{3} j_{2} k_{2} l_{2} & i_{3} j_{2} k_{2} l_{3} & i_{3} j_{2} k_{2} l_{4} & i_{3} j_{2} k_{3} l_{0} & i_{3} j_{2} k_{3} l_{2} & i_{3} j_{2} k_{3} l_{3} & i_{3} j_{2} k_{3} l_{4} & i_{3} j_{2} k_{4} l_{0} & i_{3} j_{2} k_{4} l_{2} & i_{3} j_{2} k_{4} l_{3} & i_{3} j_{2} k_{4} l_{4}\\\\i_{3} j_{3} k_{0} l_{0} & i_{3} j_{3} k_{0} l_{2} & i_{3} j_{3} k_{0} l_{3} & i_{3} j_{3} k_{0} l_{4} & i_{3} j_{3} k_{2} l_{0} & i_{3} j_{3} k_{2} l_{2} & i_{3} j_{3} k_{2} l_{3} & i_{3} j_{3} k_{2} l_{4} & i_{3} j_{3} k_{3} l_{0} & i_{3} j_{3} k_{3} l_{2} & i_{3} j_{3} k_{3} l_{3} & i_{3} j_{3} k_{3} l_{4} & i_{3} j_{3} k_{4} l_{0} & i_{3} j_{3} k_{4} l_{2} & i_{3} j_{3} k_{4} l_{3} & i_{3} j_{3} k_{4} l_{4}\\\\i_{3} j_{4} k_{0} l_{0} & i_{3} j_{4} k_{0} l_{2} & i_{3} j_{4} k_{0} l_{3} & i_{3} j_{4} k_{0} l_{4} & i_{3} j_{4} k_{2} l_{0} & i_{3} j_{4} k_{2} l_{2} & i_{3} j_{4} k_{2} l_{3} & i_{3} j_{4} k_{2} l_{4} & i_{3} j_{4} k_{3} l_{0} & i_{3} j_{4} k_{3} l_{2} & i_{3} j_{4} k_{3} l_{3} & i_{3} j_{4} k_{3} l_{4} & i_{3} j_{4} k_{4} l_{0} & i_{3} j_{4} k_{4} l_{2} & i_{3} j_{4} k_{4} l_{3} & i_{3} j_{4} k_{4} l_{4}\\\\i_{4} j_{0} k_{0} l_{0} & i_{4} j_{0} k_{0} l_{2} & i_{4} j_{0} k_{0} l_{3} & i_{4} j_{0} k_{0} l_{4} & i_{4} j_{0} k_{2} l_{0} & i_{4} j_{0} k_{2} l_{2} & i_{4} j_{0} k_{2} l_{3} & i_{4} j_{0} k_{2} l_{4} & i_{4} j_{0} k_{3} l_{0} & i_{4} j_{0} k_{3} l_{2} & i_{4} j_{0} k_{3} l_{3} & i_{4} j_{0} k_{3} l_{4} & i_{4} j_{0} k_{4} l_{0} & i_{4} j_{0} k_{4} l_{2} & i_{4} j_{0} k_{4} l_{3} & i_{4} j_{0} k_{4} l_{4}\\\\i_{4} j_{2} k_{0} l_{0} & i_{4} j_{2} k_{0} l_{2} & i_{4} j_{2} k_{0} l_{3} & i_{4} j_{2} k_{0} l_{4} & i_{4} j_{2} k_{2} l_{0} & i_{4} j_{2} k_{2} l_{2} & i_{4} j_{2} k_{2} l_{3} & i_{4} j_{2} k_{2} l_{4} & i_{4} j_{2} k_{3} l_{0} & i_{4} j_{2} k_{3} l_{2} & i_{4} j_{2} k_{3} l_{3} & i_{4} j_{2} k_{3} l_{4} & i_{4} j_{2} k_{4} l_{0} & i_{4} j_{2} k_{4} l_{2} & i_{4} j_{2} k_{4} l_{3} & i_{4} j_{2} k_{4} l_{4}\\\\i_{4} j_{3} k_{0} l_{0} & i_{4} j_{3} k_{0} l_{2} & i_{4} j_{3} k_{0} l_{3} & i_{4} j_{3} k_{0} l_{4} & i_{4} j_{3} k_{2} l_{0} & i_{4} j_{3} k_{2} l_{2} & i_{4} j_{3} k_{2} l_{3} & i_{4} j_{3} k_{2} l_{4} & i_{4} j_{3} k_{3} l_{0} & i_{4} j_{3} k_{3} l_{2} & i_{4} j_{3} k_{3} l_{3} & i_{4} j_{3} k_{3} l_{4} & i_{4} j_{3} k_{4} l_{0} & i_{4} j_{3} k_{4} l_{2} & i_{4} j_{3} k_{4} l_{3} & i_{4} j_{3} k_{4} l_{4}\\\\i_{4} j_{4} k_{0} l_{0} & i_{4} j_{4} k_{0} l_{2} & i_{4} j_{4} k_{0} l_{3} & i_{4} j_{4} k_{0} l_{4} & i_{4} j_{4} k_{2} l_{0} & i_{4} j_{4} k_{2} l_{2} & i_{4} j_{4} k_{2} l_{3} & i_{4} j_{4} k_{2} l_{4} & i_{4} j_{4} k_{3} l_{0} & i_{4} j_{4} k_{3} l_{2} & i_{4} j_{4} k_{3} l_{3} & i_{4} j_{4} k_{3} l_{4} & i_{4} j_{4} k_{4} l_{0} & i_{4} j_{4} k_{4} l_{2} & i_{4} j_{4} k_{4} l_{3} & i_{4} j_{4} k_{4} l_{4}\\end{array}\\right]$"
      ],
      "text/plain": [
       "Matrix([\n",
       "[i0*j0*k0*l0, i0*j0*k0*l2, i0*j0*k0*l3, i0*j0*k0*l4, i0*j0*k2*l0, i0*j0*k2*l2, i0*j0*k2*l3, i0*j0*k2*l4, i0*j0*k3*l0, i0*j0*k3*l2, i0*j0*k3*l3, i0*j0*k3*l4, i0*j0*k4*l0, i0*j0*k4*l2, i0*j0*k4*l3, i0*j0*k4*l4],\n",
       "[i0*j2*k0*l0, i0*j2*k0*l2, i0*j2*k0*l3, i0*j2*k0*l4, i0*j2*k2*l0, i0*j2*k2*l2, i0*j2*k2*l3, i0*j2*k2*l4, i0*j2*k3*l0, i0*j2*k3*l2, i0*j2*k3*l3, i0*j2*k3*l4, i0*j2*k4*l0, i0*j2*k4*l2, i0*j2*k4*l3, i0*j2*k4*l4],\n",
       "[i0*j3*k0*l0, i0*j3*k0*l2, i0*j3*k0*l3, i0*j3*k0*l4, i0*j3*k2*l0, i0*j3*k2*l2, i0*j3*k2*l3, i0*j3*k2*l4, i0*j3*k3*l0, i0*j3*k3*l2, i0*j3*k3*l3, i0*j3*k3*l4, i0*j3*k4*l0, i0*j3*k4*l2, i0*j3*k4*l3, i0*j3*k4*l4],\n",
       "[i0*j4*k0*l0, i0*j4*k0*l2, i0*j4*k0*l3, i0*j4*k0*l4, i0*j4*k2*l0, i0*j4*k2*l2, i0*j4*k2*l3, i0*j4*k2*l4, i0*j4*k3*l0, i0*j4*k3*l2, i0*j4*k3*l3, i0*j4*k3*l4, i0*j4*k4*l0, i0*j4*k4*l2, i0*j4*k4*l3, i0*j4*k4*l4],\n",
       "[i2*j0*k0*l0, i2*j0*k0*l2, i2*j0*k0*l3, i2*j0*k0*l4, i2*j0*k2*l0, i2*j0*k2*l2, i2*j0*k2*l3, i2*j0*k2*l4, i2*j0*k3*l0, i2*j0*k3*l2, i2*j0*k3*l3, i2*j0*k3*l4, i2*j0*k4*l0, i2*j0*k4*l2, i2*j0*k4*l3, i2*j0*k4*l4],\n",
       "[i2*j2*k0*l0, i2*j2*k0*l2, i2*j2*k0*l3, i2*j2*k0*l4, i2*j2*k2*l0, i2*j2*k2*l2, i2*j2*k2*l3, i2*j2*k2*l4, i2*j2*k3*l0, i2*j2*k3*l2, i2*j2*k3*l3, i2*j2*k3*l4, i2*j2*k4*l0, i2*j2*k4*l2, i2*j2*k4*l3, i2*j2*k4*l4],\n",
       "[i2*j3*k0*l0, i2*j3*k0*l2, i2*j3*k0*l3, i2*j3*k0*l4, i2*j3*k2*l0, i2*j3*k2*l2, i2*j3*k2*l3, i2*j3*k2*l4, i2*j3*k3*l0, i2*j3*k3*l2, i2*j3*k3*l3, i2*j3*k3*l4, i2*j3*k4*l0, i2*j3*k4*l2, i2*j3*k4*l3, i2*j3*k4*l4],\n",
       "[i2*j4*k0*l0, i2*j4*k0*l2, i2*j4*k0*l3, i2*j4*k0*l4, i2*j4*k2*l0, i2*j4*k2*l2, i2*j4*k2*l3, i2*j4*k2*l4, i2*j4*k3*l0, i2*j4*k3*l2, i2*j4*k3*l3, i2*j4*k3*l4, i2*j4*k4*l0, i2*j4*k4*l2, i2*j4*k4*l3, i2*j4*k4*l4],\n",
       "[i3*j0*k0*l0, i3*j0*k0*l2, i3*j0*k0*l3, i3*j0*k0*l4, i3*j0*k2*l0, i3*j0*k2*l2, i3*j0*k2*l3, i3*j0*k2*l4, i3*j0*k3*l0, i3*j0*k3*l2, i3*j0*k3*l3, i3*j0*k3*l4, i3*j0*k4*l0, i3*j0*k4*l2, i3*j0*k4*l3, i3*j0*k4*l4],\n",
       "[i3*j2*k0*l0, i3*j2*k0*l2, i3*j2*k0*l3, i3*j2*k0*l4, i3*j2*k2*l0, i3*j2*k2*l2, i3*j2*k2*l3, i3*j2*k2*l4, i3*j2*k3*l0, i3*j2*k3*l2, i3*j2*k3*l3, i3*j2*k3*l4, i3*j2*k4*l0, i3*j2*k4*l2, i3*j2*k4*l3, i3*j2*k4*l4],\n",
       "[i3*j3*k0*l0, i3*j3*k0*l2, i3*j3*k0*l3, i3*j3*k0*l4, i3*j3*k2*l0, i3*j3*k2*l2, i3*j3*k2*l3, i3*j3*k2*l4, i3*j3*k3*l0, i3*j3*k3*l2, i3*j3*k3*l3, i3*j3*k3*l4, i3*j3*k4*l0, i3*j3*k4*l2, i3*j3*k4*l3, i3*j3*k4*l4],\n",
       "[i3*j4*k0*l0, i3*j4*k0*l2, i3*j4*k0*l3, i3*j4*k0*l4, i3*j4*k2*l0, i3*j4*k2*l2, i3*j4*k2*l3, i3*j4*k2*l4, i3*j4*k3*l0, i3*j4*k3*l2, i3*j4*k3*l3, i3*j4*k3*l4, i3*j4*k4*l0, i3*j4*k4*l2, i3*j4*k4*l3, i3*j4*k4*l4],\n",
       "[i4*j0*k0*l0, i4*j0*k0*l2, i4*j0*k0*l3, i4*j0*k0*l4, i4*j0*k2*l0, i4*j0*k2*l2, i4*j0*k2*l3, i4*j0*k2*l4, i4*j0*k3*l0, i4*j0*k3*l2, i4*j0*k3*l3, i4*j0*k3*l4, i4*j0*k4*l0, i4*j0*k4*l2, i4*j0*k4*l3, i4*j0*k4*l4],\n",
       "[i4*j2*k0*l0, i4*j2*k0*l2, i4*j2*k0*l3, i4*j2*k0*l4, i4*j2*k2*l0, i4*j2*k2*l2, i4*j2*k2*l3, i4*j2*k2*l4, i4*j2*k3*l0, i4*j2*k3*l2, i4*j2*k3*l3, i4*j2*k3*l4, i4*j2*k4*l0, i4*j2*k4*l2, i4*j2*k4*l3, i4*j2*k4*l4],\n",
       "[i4*j3*k0*l0, i4*j3*k0*l2, i4*j3*k0*l3, i4*j3*k0*l4, i4*j3*k2*l0, i4*j3*k2*l2, i4*j3*k2*l3, i4*j3*k2*l4, i4*j3*k3*l0, i4*j3*k3*l2, i4*j3*k3*l3, i4*j3*k3*l4, i4*j3*k4*l0, i4*j3*k4*l2, i4*j3*k4*l3, i4*j3*k4*l4],\n",
       "[i4*j4*k0*l0, i4*j4*k0*l2, i4*j4*k0*l3, i4*j4*k0*l4, i4*j4*k2*l0, i4*j4*k2*l2, i4*j4*k2*l3, i4*j4*k2*l4, i4*j4*k3*l0, i4*j4*k3*l2, i4*j4*k3*l3, i4*j4*k3*l4, i4*j4*k4*l0, i4*j4*k4*l2, i4*j4*k4*l3, i4*j4*k4*l4]])"
      ]
     },
     "execution_count": 57,
     "metadata": {},
     "output_type": "execute_result"
    }
   ],
   "source": [
    "(sij.T * skl)"
   ]
  },
  {
   "cell_type": "code",
   "execution_count": 7,
   "metadata": {},
   "outputs": [
    {
     "data": {
      "text/latex": [
       "$\\displaystyle \\left[\\begin{matrix}i_{0} k_{0} & i_{0} k_{2} & i_{0} k_{3} & i_{0} k_{4}\\\\i_{2} k_{0} & i_{2} k_{2} & i_{2} k_{3} & i_{2} k_{4}\\\\i_{3} k_{0} & i_{3} k_{2} & i_{3} k_{3} & i_{3} k_{4}\\\\i_{4} k_{0} & i_{4} k_{2} & i_{4} k_{3} & i_{4} k_{4}\\end{matrix}\\right]$"
      ],
      "text/plain": [
       "Matrix([\n",
       "[i0*k0, i0*k2, i0*k3, i0*k4],\n",
       "[i2*k0, i2*k2, i2*k3, i2*k4],\n",
       "[i3*k0, i3*k2, i3*k3, i3*k4],\n",
       "[i4*k0, i4*k2, i4*k3, i4*k4]])"
      ]
     },
     "execution_count": 7,
     "metadata": {},
     "output_type": "execute_result"
    }
   ],
   "source": [
    "sp.Matrix([[i0, i2, i3, i4]]).T * sp.Matrix([[k0, k2, k3, k4]])"
   ]
  },
  {
   "cell_type": "code",
   "execution_count": 49,
   "metadata": {},
   "outputs": [],
   "source": [
    "a = list(product([0, 2, 3, 4], [0, 2, 3, 4]))\n",
    "b = list(product(a, a))\n",
    "\n",
    "idxs = []\n",
    "for ij, kl in b:\n",
    "    idx = ij + kl\n",
    "    idxs.append(idx)\n"
   ]
  },
  {
   "cell_type": "code",
   "execution_count": 61,
   "metadata": {},
   "outputs": [
    {
     "data": {
      "text/plain": [
       "array([[(0, 0, 0, 0), (0, 0, 0, 2), (0, 0, 0, 3), (0, 0, 0, 4),\n",
       "        (0, 0, 2, 0), (0, 0, 2, 2), (0, 0, 2, 3), (0, 0, 2, 4),\n",
       "        (0, 0, 3, 0), (0, 0, 3, 2), (0, 0, 3, 3), (0, 0, 3, 4),\n",
       "        (0, 0, 4, 0), (0, 0, 4, 2), (0, 0, 4, 3), (0, 0, 4, 4)],\n",
       "       [(0, 2, 0, 0), (0, 2, 0, 2), (0, 2, 0, 3), (0, 2, 0, 4),\n",
       "        (0, 2, 2, 0), (0, 2, 2, 2), (0, 2, 2, 3), (0, 2, 2, 4),\n",
       "        (0, 2, 3, 0), (0, 2, 3, 2), (0, 2, 3, 3), (0, 2, 3, 4),\n",
       "        (0, 2, 4, 0), (0, 2, 4, 2), (0, 2, 4, 3), (0, 2, 4, 4)],\n",
       "       [(0, 3, 0, 0), (0, 3, 0, 2), (0, 3, 0, 3), (0, 3, 0, 4),\n",
       "        (0, 3, 2, 0), (0, 3, 2, 2), (0, 3, 2, 3), (0, 3, 2, 4),\n",
       "        (0, 3, 3, 0), (0, 3, 3, 2), (0, 3, 3, 3), (0, 3, 3, 4),\n",
       "        (0, 3, 4, 0), (0, 3, 4, 2), (0, 3, 4, 3), (0, 3, 4, 4)],\n",
       "       [(0, 4, 0, 0), (0, 4, 0, 2), (0, 4, 0, 3), (0, 4, 0, 4),\n",
       "        (0, 4, 2, 0), (0, 4, 2, 2), (0, 4, 2, 3), (0, 4, 2, 4),\n",
       "        (0, 4, 3, 0), (0, 4, 3, 2), (0, 4, 3, 3), (0, 4, 3, 4),\n",
       "        (0, 4, 4, 0), (0, 4, 4, 2), (0, 4, 4, 3), (0, 4, 4, 4)],\n",
       "       [(2, 0, 0, 0), (2, 0, 0, 2), (2, 0, 0, 3), (2, 0, 0, 4),\n",
       "        (2, 0, 2, 0), (2, 0, 2, 2), (2, 0, 2, 3), (2, 0, 2, 4),\n",
       "        (2, 0, 3, 0), (2, 0, 3, 2), (2, 0, 3, 3), (2, 0, 3, 4),\n",
       "        (2, 0, 4, 0), (2, 0, 4, 2), (2, 0, 4, 3), (2, 0, 4, 4)],\n",
       "       [(2, 2, 0, 0), (2, 2, 0, 2), (2, 2, 0, 3), (2, 2, 0, 4),\n",
       "        (2, 2, 2, 0), (2, 2, 2, 2), (2, 2, 2, 3), (2, 2, 2, 4),\n",
       "        (2, 2, 3, 0), (2, 2, 3, 2), (2, 2, 3, 3), (2, 2, 3, 4),\n",
       "        (2, 2, 4, 0), (2, 2, 4, 2), (2, 2, 4, 3), (2, 2, 4, 4)],\n",
       "       [(2, 3, 0, 0), (2, 3, 0, 2), (2, 3, 0, 3), (2, 3, 0, 4),\n",
       "        (2, 3, 2, 0), (2, 3, 2, 2), (2, 3, 2, 3), (2, 3, 2, 4),\n",
       "        (2, 3, 3, 0), (2, 3, 3, 2), (2, 3, 3, 3), (2, 3, 3, 4),\n",
       "        (2, 3, 4, 0), (2, 3, 4, 2), (2, 3, 4, 3), (2, 3, 4, 4)],\n",
       "       [(2, 4, 0, 0), (2, 4, 0, 2), (2, 4, 0, 3), (2, 4, 0, 4),\n",
       "        (2, 4, 2, 0), (2, 4, 2, 2), (2, 4, 2, 3), (2, 4, 2, 4),\n",
       "        (2, 4, 3, 0), (2, 4, 3, 2), (2, 4, 3, 3), (2, 4, 3, 4),\n",
       "        (2, 4, 4, 0), (2, 4, 4, 2), (2, 4, 4, 3), (2, 4, 4, 4)],\n",
       "       [(3, 0, 0, 0), (3, 0, 0, 2), (3, 0, 0, 3), (3, 0, 0, 4),\n",
       "        (3, 0, 2, 0), (3, 0, 2, 2), (3, 0, 2, 3), (3, 0, 2, 4),\n",
       "        (3, 0, 3, 0), (3, 0, 3, 2), (3, 0, 3, 3), (3, 0, 3, 4),\n",
       "        (3, 0, 4, 0), (3, 0, 4, 2), (3, 0, 4, 3), (3, 0, 4, 4)],\n",
       "       [(3, 2, 0, 0), (3, 2, 0, 2), (3, 2, 0, 3), (3, 2, 0, 4),\n",
       "        (3, 2, 2, 0), (3, 2, 2, 2), (3, 2, 2, 3), (3, 2, 2, 4),\n",
       "        (3, 2, 3, 0), (3, 2, 3, 2), (3, 2, 3, 3), (3, 2, 3, 4),\n",
       "        (3, 2, 4, 0), (3, 2, 4, 2), (3, 2, 4, 3), (3, 2, 4, 4)],\n",
       "       [(3, 3, 0, 0), (3, 3, 0, 2), (3, 3, 0, 3), (3, 3, 0, 4),\n",
       "        (3, 3, 2, 0), (3, 3, 2, 2), (3, 3, 2, 3), (3, 3, 2, 4),\n",
       "        (3, 3, 3, 0), (3, 3, 3, 2), (3, 3, 3, 3), (3, 3, 3, 4),\n",
       "        (3, 3, 4, 0), (3, 3, 4, 2), (3, 3, 4, 3), (3, 3, 4, 4)],\n",
       "       [(3, 4, 0, 0), (3, 4, 0, 2), (3, 4, 0, 3), (3, 4, 0, 4),\n",
       "        (3, 4, 2, 0), (3, 4, 2, 2), (3, 4, 2, 3), (3, 4, 2, 4),\n",
       "        (3, 4, 3, 0), (3, 4, 3, 2), (3, 4, 3, 3), (3, 4, 3, 4),\n",
       "        (3, 4, 4, 0), (3, 4, 4, 2), (3, 4, 4, 3), (3, 4, 4, 4)],\n",
       "       [(4, 0, 0, 0), (4, 0, 0, 2), (4, 0, 0, 3), (4, 0, 0, 4),\n",
       "        (4, 0, 2, 0), (4, 0, 2, 2), (4, 0, 2, 3), (4, 0, 2, 4),\n",
       "        (4, 0, 3, 0), (4, 0, 3, 2), (4, 0, 3, 3), (4, 0, 3, 4),\n",
       "        (4, 0, 4, 0), (4, 0, 4, 2), (4, 0, 4, 3), (4, 0, 4, 4)],\n",
       "       [(4, 2, 0, 0), (4, 2, 0, 2), (4, 2, 0, 3), (4, 2, 0, 4),\n",
       "        (4, 2, 2, 0), (4, 2, 2, 2), (4, 2, 2, 3), (4, 2, 2, 4),\n",
       "        (4, 2, 3, 0), (4, 2, 3, 2), (4, 2, 3, 3), (4, 2, 3, 4),\n",
       "        (4, 2, 4, 0), (4, 2, 4, 2), (4, 2, 4, 3), (4, 2, 4, 4)],\n",
       "       [(4, 3, 0, 0), (4, 3, 0, 2), (4, 3, 0, 3), (4, 3, 0, 4),\n",
       "        (4, 3, 2, 0), (4, 3, 2, 2), (4, 3, 2, 3), (4, 3, 2, 4),\n",
       "        (4, 3, 3, 0), (4, 3, 3, 2), (4, 3, 3, 3), (4, 3, 3, 4),\n",
       "        (4, 3, 4, 0), (4, 3, 4, 2), (4, 3, 4, 3), (4, 3, 4, 4)],\n",
       "       [(4, 4, 0, 0), (4, 4, 0, 2), (4, 4, 0, 3), (4, 4, 0, 4),\n",
       "        (4, 4, 2, 0), (4, 4, 2, 2), (4, 4, 2, 3), (4, 4, 2, 4),\n",
       "        (4, 4, 3, 0), (4, 4, 3, 2), (4, 4, 3, 3), (4, 4, 3, 4),\n",
       "        (4, 4, 4, 0), (4, 4, 4, 2), (4, 4, 4, 3), (4, 4, 4, 4)]],\n",
       "      dtype=[('f0', '<i4'), ('f1', '<i4'), ('f2', '<i4'), ('f3', '<i4')])"
      ]
     },
     "execution_count": 61,
     "metadata": {},
     "output_type": "execute_result"
    }
   ],
   "source": [
    "np.array(idxs, dtype=\"i,i,i,i\").reshape(16, 16)"
   ]
  },
  {
   "cell_type": "code",
   "execution_count": 62,
   "metadata": {},
   "outputs": [],
   "source": [
    "idxs2 = list(product([0, 2, 3, 4], [0, 2, 3, 4], [0, 2, 3, 4], [0, 2, 3, 4]))"
   ]
  },
  {
   "cell_type": "code",
   "execution_count": null,
   "metadata": {},
   "outputs": [],
   "source": []
  },
  {
   "cell_type": "code",
   "execution_count": 44,
   "metadata": {},
   "outputs": [
    {
     "data": {
      "text/plain": [
       "array([(1, 2), (3, 4)], dtype=[('f0', '<i4'), ('f1', '<i4')])"
      ]
     },
     "execution_count": 44,
     "metadata": {},
     "output_type": "execute_result"
    }
   ],
   "source": [
    "# https://stackoverflow.com/questions/47389447/how-convert-a-list-of-tupes-to-a-numpy-array-of-tuples\n",
    "\n",
    "np.array([(1, 2), (3,4)], dtype=\"i,i\")"
   ]
  },
  {
   "cell_type": "code",
   "execution_count": 60,
   "metadata": {},
   "outputs": [
    {
     "name": "stdout",
     "output_type": "stream",
     "text": [
      "[0 1]\n",
      "[2 3]\n"
     ]
    }
   ],
   "source": [
    "c = np.arange(4).reshape(2, 2)\n",
    "\n",
    "for i in c:\n",
    "    print(i)"
   ]
  },
  {
   "cell_type": "code",
   "execution_count": null,
   "metadata": {},
   "outputs": [],
   "source": []
  }
 ],
 "metadata": {
  "kernelspec": {
   "display_name": "base",
   "language": "python",
   "name": "python3"
  },
  "language_info": {
   "codemirror_mode": {
    "name": "ipython",
    "version": 3
   },
   "file_extension": ".py",
   "mimetype": "text/x-python",
   "name": "python",
   "nbconvert_exporter": "python",
   "pygments_lexer": "ipython3",
   "version": "3.9.12 (main, Apr  4 2022, 05:22:27) [MSC v.1916 64 bit (AMD64)]"
  },
  "orig_nbformat": 4,
  "vscode": {
   "interpreter": {
    "hash": "c1590602456d7cb2bb11a9c056450b313acab0eb77422ae1a602feaa944934ec"
   }
  }
 },
 "nbformat": 4,
 "nbformat_minor": 2
}
